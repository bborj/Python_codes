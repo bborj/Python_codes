{
 "cells": [
  {
   "cell_type": "code",
   "execution_count": 5,
   "id": "837b7222",
   "metadata": {},
   "outputs": [],
   "source": [
    "import numpy as np\n",
    "import tensorflow as tf"
   ]
  },
  {
   "cell_type": "code",
   "execution_count": 3,
   "id": "5ac9417f",
   "metadata": {},
   "outputs": [
    {
     "name": "stdout",
     "output_type": "stream",
     "text": [
      "<module 'tensorflow._api.v2.version' from 'C:\\\\Users\\\\borja\\\\anaconda3\\\\lib\\\\site-packages\\\\tensorflow\\\\_api\\\\v2\\\\version\\\\__init__.py'>\n"
     ]
    }
   ],
   "source": [
    "print(tf.version)"
   ]
  },
  {
   "cell_type": "code",
   "execution_count": 8,
   "id": "96772a8c",
   "metadata": {},
   "outputs": [
    {
     "data": {
      "text/plain": [
       "<tf.Tensor: shape=(), dtype=int32, numpy=2>"
      ]
     },
     "execution_count": 8,
     "metadata": {},
     "output_type": "execute_result"
    }
   ],
   "source": [
    "#Rank/Degree of Tensors\n",
    "\n",
    "rank1_tensor = tf.Variable([\"Test\"],tf.string) #rank 1, it has an array\n",
    "rank2_tensor = tf.Variable([[\"Test1\",\"Test2\"],[\"ok\",\"ok2\"]],tf.string) #rank 2, it has 2 arrays\n",
    "\n",
    "tf.rank(rank1_tensor)\n",
    "tf.rank(rank2_tensor)"
   ]
  },
  {
   "cell_type": "code",
   "execution_count": 11,
   "id": "75bb8414",
   "metadata": {},
   "outputs": [
    {
     "name": "stdout",
     "output_type": "stream",
     "text": [
      "tf.Tensor(\n",
      "[[[1.]\n",
      "  [1.]\n",
      "  [1.]]\n",
      "\n",
      " [[1.]\n",
      "  [1.]\n",
      "  [1.]]], shape=(2, 3, 1), dtype=float32)\n",
      "tf.Tensor(\n",
      "[[1. 1.]\n",
      " [1. 1.]\n",
      " [1. 1.]], shape=(3, 2), dtype=float32)\n"
     ]
    }
   ],
   "source": [
    "#Reshaping tensors\n",
    "tensor1 = tf.ones([1,2,3]) #It creates a tensor of 1s\n",
    "\n",
    "tensor2 = tf.reshape(tensor1,[2,3,1])\n",
    "tensor3 = tf.reshape(tensor1,[3,-1]) #-1 tells to tensor to calculate the size\n",
    "print(tensor2)\n",
    "print(tensor3)"
   ]
  },
  {
   "cell_type": "code",
   "execution_count": null,
   "id": "ce4fda40",
   "metadata": {},
   "outputs": [],
   "source": [
    "#Evaluating Tensors\n",
    "\n",
    "with tf.Session() as sess:\n",
    "    tensor.eval()"
   ]
  }
 ],
 "metadata": {
  "kernelspec": {
   "display_name": "Python 3 (ipykernel)",
   "language": "python",
   "name": "python3"
  },
  "language_info": {
   "codemirror_mode": {
    "name": "ipython",
    "version": 3
   },
   "file_extension": ".py",
   "mimetype": "text/x-python",
   "name": "python",
   "nbconvert_exporter": "python",
   "pygments_lexer": "ipython3",
   "version": "3.9.7"
  }
 },
 "nbformat": 4,
 "nbformat_minor": 5
}
